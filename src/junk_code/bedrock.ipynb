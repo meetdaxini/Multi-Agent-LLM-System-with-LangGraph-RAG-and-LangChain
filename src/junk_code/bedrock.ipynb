{
 "cells": [
  {
   "cell_type": "code",
   "execution_count": 1,
   "metadata": {},
   "outputs": [],
   "source": [
    "import configparser\n",
    "import boto3\n",
    "import json"
   ]
  },
  {
   "cell_type": "code",
   "execution_count": 2,
   "metadata": {},
   "outputs": [],
   "source": [
    "def get_bedrock_client():\n",
    "    # Read config file\n",
    "    config = configparser.ConfigParser()\n",
    "    config.read(\n",
    "        \"/home/ubuntu/Multi-Agent-LLM-System-with-LangGraph-RAG-and-LangChain/config/config.ini\"\n",
    "    )\n",
    "\n",
    "    # Get AWS credentials from config\n",
    "    aws_access_key = config['BedRock_LLM_API']['aws_access_key_id']\n",
    "    aws_secret_key = config['BedRock_LLM_API']['aws_secret_access_key']\n",
    "    region = config[\"BedRock_LLM_API\"][\"region\"]\n",
    "\n",
    "    # Create Bedrock client\n",
    "    bedrock = boto3.client(\n",
    "        service_name='bedrock-runtime',\n",
    "        region_name=region,\n",
    "        aws_access_key_id=aws_access_key,\n",
    "        aws_secret_access_key=aws_secret_key\n",
    "    )\n",
    "\n",
    "    return bedrock"
   ]
  },
  {
   "cell_type": "code",
   "execution_count": 3,
   "metadata": {},
   "outputs": [
    {
     "data": {
      "text/plain": [
       "<botocore.client.BedrockRuntime at 0x7e3aa1e7bc70>"
      ]
     },
     "execution_count": 3,
     "metadata": {},
     "output_type": "execute_result"
    }
   ],
   "source": [
    "get_bedrock_client()"
   ]
  },
  {
   "cell_type": "code",
   "execution_count": 4,
   "metadata": {},
   "outputs": [],
   "source": [
    "def chat_with_model(prompt, model_id=\"anthropic.claude-v2\"):\n",
    "    bedrock = get_bedrock_client()\n",
    "\n",
    "    # Prepare the request body\n",
    "    body = {\n",
    "        \"anthropic_version\": \"bedrock-2023-05-31\",\n",
    "        \"max_tokens\": 1000,\n",
    "        \"messages\": [{\"role\": \"user\", \"content\": prompt}],\n",
    "    }\n",
    "\n",
    "    try:\n",
    "        response = bedrock.invoke_model(modelId=model_id, body=json.dumps(body))\n",
    "\n",
    "        # Parse response\n",
    "        response_body = json.loads(response[\"body\"].read())\n",
    "        return response_body[\"content\"][0][\"text\"]\n",
    "\n",
    "    except Exception as e:\n",
    "        print(f\"Error calling Bedrock: {str(e)}\")\n",
    "        return None\n",
    "\n",
    "\n",
    "def get_embedding(text, model_id=\"amazon.titan-embed-text-v1\"):\n",
    "    bedrock = get_bedrock_client()\n",
    "\n",
    "    # Prepare the request body\n",
    "    body = {\"inputText\": text}\n",
    "\n",
    "    try:\n",
    "        response = bedrock.invoke_model(modelId=model_id, body='')\n",
    "\n",
    "        # Parse response\n",
    "        response_body = json.loads(response[\"body\"].read())\n",
    "        return response_body[\"embedding\"]\n",
    "\n",
    "    except Exception as e:\n",
    "        print(f\"Error getting embedding: {str(e)}\")\n",
    "        return None"
   ]
  },
  {
   "cell_type": "code",
   "execution_count": 5,
   "metadata": {},
   "outputs": [
    {
     "name": "stdout",
     "output_type": "stream",
     "text": [
      "read config done\n"
     ]
    }
   ],
   "source": [
    "config = configparser.ConfigParser()\n",
    "config.read(\n",
    "    \"/home/ubuntu/Multi-Agent-LLM-System-with-LangGraph-RAG-and-LangChain/config/config.ini\"\n",
    ")\n",
    "print(\"read config done\")\n",
    "# print(dict(config[\"BedRock_LLM_API\"]))"
   ]
  },
  {
   "cell_type": "code",
   "execution_count": 6,
   "metadata": {},
   "outputs": [],
   "source": [
    "# Get AWS creds from config\n",
    "aws_access_key = config[\"BedRock_LLM_API\"][\"aws_access_key_id\"]\n",
    "aws_secret_key = config[\"BedRock_LLM_API\"][\"aws_secret_access_key\"]\n",
    "aws_session_token = config[\"BedRock_LLM_API\"][\"aws_session_token\"]\n",
    "region = config[\"BedRock_LLM_API\"][\"region\"]\n",
    "\n",
    "# # Create Bedrock client\n",
    "bedrock = boto3.client(\n",
    "    service_name=\"bedrock-runtime\",\n",
    "    region_name=region,\n",
    "    aws_access_key_id=aws_access_key,\n",
    "    aws_secret_access_key=aws_secret_key,\n",
    "    aws_session_token=aws_session_token,\n",
    ")"
   ]
  },
  {
   "cell_type": "code",
   "execution_count": 7,
   "metadata": {},
   "outputs": [
    {
     "name": "stdout",
     "output_type": "stream",
     "text": [
      "Based on the information provided in the context, Hirschsprung disease (HSCR) appears to be a multifactorial disorder with complex genetic etiology, rather than a simple Mendelian disorder. Specifically:\n",
      "\n",
      "1. The background section states that HSCR \"has a complex genetic etiology with several genes being described as associated with either isolated or syndromic forms.\"\n",
      "\n",
      "2. It mentions that HSCR can occur sporadically or be familial, and can be isolated or associated with other anomalies/syndromes.\n",
      "\n",
      "3. The study aimed to evaluate the involvement of both rare variants (RVs) and common variants (CVs) in the RET gene in HSCR, indicating multiple genetic factors contribute.\n",
      "\n",
      "4. The results showed synergistic effects between RET rare and common variants leading to the HSCR phenotype. \n",
      "\n",
      "5. There are gender differences in the transmission and distribution of HSCR-causing mutations, suggesting complex inheritance patterns.\n",
      "\n",
      "6. The background states HSCR has \"differential contributions of its rare and common, coding and noncoding mutations to the multifactorial nature of this pathology.\"\n",
      "\n",
      "So in summary, while mutations in genes like RET play a major role, HSCR appears to result from complex interactions between multiple genetic and likely environmental factors, rather than following simple Mendelian inheritance. The evidence points to HSCR being a multifactorial disorder with complex genetics.\n"
     ]
    }
   ],
   "source": [
    "# Simple prompt\n",
    "prompt = \"Tell me a short joke\"\n",
    "\n",
    "# Request body for Claude\n",
    "body = {\n",
    "    \"max_tokens\": 512,\n",
    "    \"temperature\": 0.7,\n",
    "    \"top_p\": 0.95,\n",
    "    \"system\": \"You are an AI assistant that provides accurate and helpful answers\\nbased on the given context. Your responses should be:\\n1. Focused on the provided context\\n2. Clear and concise\\n3. Accurate and relevant to the question\\n4. Based only on the information given\\n\",\n",
    "    \"messages\": [\n",
    "        {\n",
    "            \"role\": \"user\",\n",
    "            \"content\": \"Context:\\nsyndromes and genetics: a review. J Med Genet 2008, 45:1-14.\\n3. Emison ES, McCallion AS, Kashuk CS, Bush RT, Grice E, Lin S, Portnoy ME,\\nCutler DJ, Green ED, Chakravarti A: A common sex-dependent mutation in\\na RET enhancer underlies Hirschsprung disease risk. Nature 2005,\\n434:857-863.\\n4. Fernandez RM, Boru G, Pecina A, Jones K, Lopez-Alonso M, Antiñolo G,\\nBorrego S, Eng C: Ancestral RET haplotype associated with Hirschsprung ’s\\ndisease shows linkage disequilibrium breakpoint at -1249. J Med Genet\\n2005, 42:322-327.\\n5. Emison ES, Garcia-Barcelo M, Grice EA, Lantieri F, Amiel J, Burzynski G,\\nFernandez RM, Hao L, Kashuk C, West K, Miao X, Tam PK, Griseri P,Ceccherini I, Pelet A, Jannot AS, de Pontual L, Henrion-Caude A, Lyonnet S,Verheij JB, Hofstra RM, Antiñolo G, Borrego S, McCallion AS, Chakravarti A:Differential contributions of rare and common, coding and noncodingRet mutations to multifactorial Hirschsprung disease liability. Am J Hum\\nGenet 2010, 87(1) :60-74.\\n6. Sribudiani Y, Metzger M, Osinga J, Rey A, Burns AJ, Thapar N, Hofstra RM:\\nVariants in RET associated with Hirschsprung disease affect binding oftranscription factors and gene expression. Gastroenterology 2011,\\n140(2) :572-582, e2.\\n7. Ruiz-Ferrer F, Fernandez R, Antiñolo G, López- Alonso M, Eng C, Borrego S:\\nA complex additive of inheritance for Hirschprung disease (HSCR) is\\nsupported by both RET mutations and predisposing RET haplotypes.\\nGenet Med 2006, 8:1-6.\\n8. Borrego S, Wright FA, Fernandez RM, Williams N, Lopez-Alonso M,\\nDavuluri R, Antiñolo G, Eng C: A founding locus within the RET proto-\\noncogene may account for a large proportion of apparently sporadicHirschsprung disease and a subset of cases of sporadic medullary\\nthyroid carcinoma. Am J Hum Genet 2003, 72:88-100.Núñez-Torres et al .BMC Medical Genetics 2011, 12:138\\nhttp://www.biomedcentral.com/1471-2350/12/138Page 6 of 7\\n9. Sánchez-Mejías A, Fernández RM, López-Alonso M, Antiñolo G, Borrego S:\\ncausing mutations. In addition, these RETCVs and RVs seem to act in a synergistic way leading to HSCR\\nphenotype.\\nBackground\\nHirschsprung disease (HSCR, OMIM #142623) is a con-\\ngenital malformation of the hindgut produced by a dis-ruption in the neural crest cells (NCC) migration duringembryonic development. This disorder results in anabsence of intramural ganglion cells in the submucosaland myenteric plexuses producing a functional intestinal\\nobstruction. According to the aganglionic segment\\nlength, patients could be classified as short-segmentHSCR (S-HSCR), when aganglionosis extend as far asthe rectosigmoid junction, and long-segment HSCR (L-HSCR), when it extends beyond it. HSCR presents anestimated incidence of 1/5000 live births with sex-dependent penetrance and male predominance of 4:1[1,2]. It most commonly presents sporadically, althoughit can also be familial (up to 20% of the cases). The dis-ease usually presents as isolated, though 30% of thecases are associated with ch romosomal abnormalities,\\nneurodevelopmental disorders and a variety of additionalisolated anomalies and syndromes [2].\\nHSCR has a complex genetic etiology with several\\ngenes being described as associated with either isolatedor syndromic forms. These genes encode for receptors,ligands (especially those participating in the RET and\\nEDNRB signaling transduction pathways), transcriptional\\nfactors or other cell elements that are usually involved\\n* Correspondence: salud.borrego.sspa@juntadeandalucia.es\\n1Unidad de Gestión Clínica de Genética, Reproducción y Medicina Fetal.\\nInstituto de Biomedicina de Sevilla (IBIS), Hospital Universitario Virgen del\\nRocío/CSIC/Universidad de Sevilla, Sevilla, Spain\\nFull list of author information is available at the end of the articleNúñez-Torres et al .BMC Medical Genetics 2011, 12:138\\nhttp://www.biomedcentral.com/1471-2350/12/138\\n© 2011 Núñez-Torres et al; licensee BioMed Central Ltd. This is an Open Access article distributed under the terms of the Creative\\nthyroid carcinoma. Am J Hum Genet 2003, 72:88-100.Núñez-Torres et al .BMC Medical Genetics 2011, 12:138\\nhttp://www.biomedcentral.com/1471-2350/12/138Page 6 of 7\\n9. Sánchez-Mejías A, Fernández RM, López-Alonso M, Antiñolo G, Borrego S:\\nNew roles of EDNRB and EDN3 in the pathogenesis of Hirschsprung\\ndisease. Genet Med 2010, 12:39-43.\\n10. Fernández RM, Sánchez-Mejías A, Ruiz-Ferrer M, López-Alonso M,\\nAntiñolo G, Borrego S: Is the RET proto-oncogene involved in the\\npathogenesis of intestinal neuronal dysplasia type B? Mol Med Rep 2009,\\n2:265-270.\\n11. Zintzaras E, Lau J: Synthesis of genetic association studies for pertinent\\ngene-disease associations requires appropriate methodological andstatistical approaches. J Clin Epidemiol 2008, 61:634-45.\\n12. Zintzaras E: The generalized odds ratio as a measure of genetic risk\\neffect in the analysis and meta-analysis of association studies. Stat Appl\\nGenet Mol Biol 2010, 9:Article21.\\n13. Ruiz-Ferrer M, Fernandez RM, Antiñolo G, Lopez-Alonso M, Borrego S: NTF-\\n3, a gene involved in the enteric nervous system development, as acandidate gene for Hirschsprung disease. J Pediatr Surg 2008,\\n43(7) :1308-1311.\\n14. Ruiz-Ferrer M, Torroglosa A, Luzón-Toro B, Fernández RM, Antiñolo G,\\nMulligan LM, Borrego S: Novel mutations at RET ligands genes\\npreventing receptor activation are associated to Hirschsprung ’s disease.\\nJ Mol Med 2011, 89(5) :471-80.\\n15. Fernandez RM, Robledo M, Antinolo G, Pecina A, Ruiz-Llorente S, Eng C,\\nBorrego S: The RET IVS1-126G > T variant is strongly associated with the\\ndevelopment of sporadic medullary thyroid cancer. Thyroid 2004,\\n14(4) :329-331.\\n16. Fernández RM, Peciña A, Antiñolo G, Navarro E, Borrego S: Analysis of RET\\npolymorphisms and haplotypes in the context of sporadic medullarythyroid carcinoma. Thyroid 2006, 16(4) :411-417.\\n17. Núñez-Torres R, Fernández RM, López-Alonso M, Antiñolo G, Borrego S: A\\nnovel study of copy number variations in Hirschsprung disease using\\n17. Núñez-Torres R, Fernández RM, López-Alonso M, Antiñolo G, Borrego S: A\\nnovel study of copy number variations in Hirschsprung disease using\\nthe multiple ligation-dependent probe amplification (MLPA) technique.\\nBMC Med Genet 2009, 10:119-124.\\n18. Sánchez-Mejías A, Núñez-Torres R, Fernández RM, Antiñolo G, Borrego S:\\nNovel MLPA procedure using self-designed probes allowscomprehensive analysis for CNVs of the genes involved in Hirschsprungdisease. BMC Med Genet 2010, 11:71-79.\\n19. Mulligan LM, Eng C, Attié T, Lyonnet S, Marsh DJ, Hyland VJ, Robinson BG,\\nFrilling A, Verellen-Dumoulin C, Safar A, et al:Diverse phenotypes\\nassociated with exon 10 mutations of the RET proto-oncogene. Hum Mol\\nGenet 1994, 3:2163-2167.\\n20. Wu TT, Tsai TW, Chu CT, Lee ZF, Hung CM, Su CC, Li SY, Hsieh M, Li C: Low\\nRET mutation frequency and polymorphism analysis of the RET andEDNRB genes in patients with Hirschsprung disease in Taiwan. J Hum\\nGenet 2005, 50(4) :168-74.\\nPre-publication historyThe pre-publication history for this paper can be accessed here:http://www.biomedcentral.com/1471-2350/12/138/prepub\\ndoi:10.1186/1471-2350-12-138\\nCite this article as: Núñez-Torres et al.:Comprehensive analysis of RET\\ncommon and rare variants in a series of Spanish Hirschsprung patientsconfirms a synergistic effect of both kinds of events. BMC Medical\\nGenetics 2011 12:138.\\nSubmit your next manuscript to BioMed Central\\nand take full advantage of: \\n• Convenient online submission\\n• Thorough peer review\\n• No space constraints or color ﬁgure charges\\n• Immediate publication on acceptance\\n• Inclusion in PubMed, CAS, Scopus and Google Scholar\\n• Research which is freely available for redistribution\\nSubmit your manuscript at \\nwww.biomedcentral.com/submitNúñez-Torres et al .BMC Medical Genetics 2011, 12:138\\nhttp://www.biomedcentral.com/1471-2350/12/138Page 7 of 7\\nRESEARCH ARTICLE Open Access\\nComprehensive analysis of RETcommon and rare\\nvariants in a series of Spanish Hirschsprung\\npatients confirms a synergistic effect of bothkinds of events\\nRocio Núñez-Torres1,2, Raquel M Fernández1,2, Manuel Jesus Acosta1,2, Maria del Valle Enguix-Riego1,2,\\nMartina Marbá3, Juan Carlos de Agustín4, Luis Castaño5, Guillermo Antiñolo1,2and Salud Borrego1,2*\\nAbstract\\nBackground: RETis the major gene associated to Hirschsprung disease (HSCR) with differential contributions of its\\nrare and common, coding and noncoding mutations to the multifactorial nature of this pathology. In the present\\nstudy, we have performed a comprehensive study of our HSCR series evaluating the involvement of both RETrare\\nvariants (RVs) and common variants (CVs) in the context of the disease.\\nMethods: RETmutational screening was performed by dHPLC and direct sequencing for the identification of RVs.\\nIn addition Taqman technology was applied for the genotyping of 3 RETCVs previously associated to HSCR,\\nincluding a variant lying in an enhancer domain within RETintron 1 (rs2435357). Statistical analyses were\\nperformed using the SPSS v.17.0 to analyze the distribution of the variants.\\nResults: Our results confirm the strongest association to HSCR for the “enhancer ”variant, and demonstrate a\\nsignificantly higher impact of it in male versus female patients. Integration of the RETRVs and CVs analysis showed\\nthat in 91.66% of cases with both kinds of mutational events, the enhancer allele is in trans with the allele bearing\\ntheRETRV.\\nConclusions: A gender effect exists on both the transmission and distribution of rare coding and common HSCR\\ncausing mutations. In addition, these RETCVs and RVs seem to act in a synergistic way leading to HSCR\\nphenotype.\\nBackground\\nHirschsprung disease (HSCR, OMIM #142623) is a con-\\n\\nQuestion:\\nIs Hirschsprung disease a mendelian or a multifactorial disorder?\",\n",
    "        }\n",
    "    ],\n",
    "    \"top_k\": 50,\n",
    "    \"anthropic_version\": \"bedrock-2023-05-31\",\n",
    "}\n",
    "\n",
    "# Make the API call\n",
    "response = bedrock.invoke_model(\n",
    "    modelId=\"anthropic.claude-3-5-sonnet-20240620-v1:0\",\n",
    "    body=json.dumps(\n",
    "        {\n",
    "            \"messages\": [\n",
    "                {\n",
    "                    \"role\": \"user\",\n",
    "                    \"content\": \"Context:\\nsyndromes and genetics: a review. J Med Genet 2008, 45:1-14.\\n3. Emison ES, McCallion AS, Kashuk CS, Bush RT, Grice E, Lin S, Portnoy ME,\\nCutler DJ, Green ED, Chakravarti A: A common sex-dependent mutation in\\na RET enhancer underlies Hirschsprung disease risk. Nature 2005,\\n434:857-863.\\n4. Fernandez RM, Boru G, Pecina A, Jones K, Lopez-Alonso M, Antiñolo G,\\nBorrego S, Eng C: Ancestral RET haplotype associated with Hirschsprung ’s\\ndisease shows linkage disequilibrium breakpoint at -1249. J Med Genet\\n2005, 42:322-327.\\n5. Emison ES, Garcia-Barcelo M, Grice EA, Lantieri F, Amiel J, Burzynski G,\\nFernandez RM, Hao L, Kashuk C, West K, Miao X, Tam PK, Griseri P,Ceccherini I, Pelet A, Jannot AS, de Pontual L, Henrion-Caude A, Lyonnet S,Verheij JB, Hofstra RM, Antiñolo G, Borrego S, McCallion AS, Chakravarti A:Differential contributions of rare and common, coding and noncodingRet mutations to multifactorial Hirschsprung disease liability. Am J Hum\\nGenet 2010, 87(1) :60-74.\\n6. Sribudiani Y, Metzger M, Osinga J, Rey A, Burns AJ, Thapar N, Hofstra RM:\\nVariants in RET associated with Hirschsprung disease affect binding oftranscription factors and gene expression. Gastroenterology 2011,\\n140(2) :572-582, e2.\\n7. Ruiz-Ferrer F, Fernandez R, Antiñolo G, López- Alonso M, Eng C, Borrego S:\\nA complex additive of inheritance for Hirschprung disease (HSCR) is\\nsupported by both RET mutations and predisposing RET haplotypes.\\nGenet Med 2006, 8:1-6.\\n8. Borrego S, Wright FA, Fernandez RM, Williams N, Lopez-Alonso M,\\nDavuluri R, Antiñolo G, Eng C: A founding locus within the RET proto-\\noncogene may account for a large proportion of apparently sporadicHirschsprung disease and a subset of cases of sporadic medullary\\nthyroid carcinoma. Am J Hum Genet 2003, 72:88-100.Núñez-Torres et al .BMC Medical Genetics 2011, 12:138\\nhttp://www.biomedcentral.com/1471-2350/12/138Page 6 of 7\\n9. Sánchez-Mejías A, Fernández RM, López-Alonso M, Antiñolo G, Borrego S:\\ncausing mutations. In addition, these RETCVs and RVs seem to act in a synergistic way leading to HSCR\\nphenotype.\\nBackground\\nHirschsprung disease (HSCR, OMIM #142623) is a con-\\ngenital malformation of the hindgut produced by a dis-ruption in the neural crest cells (NCC) migration duringembryonic development. This disorder results in anabsence of intramural ganglion cells in the submucosaland myenteric plexuses producing a functional intestinal\\nobstruction. According to the aganglionic segment\\nlength, patients could be classified as short-segmentHSCR (S-HSCR), when aganglionosis extend as far asthe rectosigmoid junction, and long-segment HSCR (L-HSCR), when it extends beyond it. HSCR presents anestimated incidence of 1/5000 live births with sex-dependent penetrance and male predominance of 4:1[1,2]. It most commonly presents sporadically, althoughit can also be familial (up to 20% of the cases). The dis-ease usually presents as isolated, though 30% of thecases are associated with ch romosomal abnormalities,\\nneurodevelopmental disorders and a variety of additionalisolated anomalies and syndromes [2].\\nHSCR has a complex genetic etiology with several\\ngenes being described as associated with either isolatedor syndromic forms. These genes encode for receptors,ligands (especially those participating in the RET and\\nEDNRB signaling transduction pathways), transcriptional\\nfactors or other cell elements that are usually involved\\n* Correspondence: salud.borrego.sspa@juntadeandalucia.es\\n1Unidad de Gestión Clínica de Genética, Reproducción y Medicina Fetal.\\nInstituto de Biomedicina de Sevilla (IBIS), Hospital Universitario Virgen del\\nRocío/CSIC/Universidad de Sevilla, Sevilla, Spain\\nFull list of author information is available at the end of the articleNúñez-Torres et al .BMC Medical Genetics 2011, 12:138\\nhttp://www.biomedcentral.com/1471-2350/12/138\\n© 2011 Núñez-Torres et al; licensee BioMed Central Ltd. This is an Open Access article distributed under the terms of the Creative\\nthyroid carcinoma. Am J Hum Genet 2003, 72:88-100.Núñez-Torres et al .BMC Medical Genetics 2011, 12:138\\nhttp://www.biomedcentral.com/1471-2350/12/138Page 6 of 7\\n9. Sánchez-Mejías A, Fernández RM, López-Alonso M, Antiñolo G, Borrego S:\\nNew roles of EDNRB and EDN3 in the pathogenesis of Hirschsprung\\ndisease. Genet Med 2010, 12:39-43.\\n10. Fernández RM, Sánchez-Mejías A, Ruiz-Ferrer M, López-Alonso M,\\nAntiñolo G, Borrego S: Is the RET proto-oncogene involved in the\\npathogenesis of intestinal neuronal dysplasia type B? Mol Med Rep 2009,\\n2:265-270.\\n11. Zintzaras E, Lau J: Synthesis of genetic association studies for pertinent\\ngene-disease associations requires appropriate methodological andstatistical approaches. J Clin Epidemiol 2008, 61:634-45.\\n12. Zintzaras E: The generalized odds ratio as a measure of genetic risk\\neffect in the analysis and meta-analysis of association studies. Stat Appl\\nGenet Mol Biol 2010, 9:Article21.\\n13. Ruiz-Ferrer M, Fernandez RM, Antiñolo G, Lopez-Alonso M, Borrego S: NTF-\\n3, a gene involved in the enteric nervous system development, as acandidate gene for Hirschsprung disease. J Pediatr Surg 2008,\\n43(7) :1308-1311.\\n14. Ruiz-Ferrer M, Torroglosa A, Luzón-Toro B, Fernández RM, Antiñolo G,\\nMulligan LM, Borrego S: Novel mutations at RET ligands genes\\npreventing receptor activation are associated to Hirschsprung ’s disease.\\nJ Mol Med 2011, 89(5) :471-80.\\n15. Fernandez RM, Robledo M, Antinolo G, Pecina A, Ruiz-Llorente S, Eng C,\\nBorrego S: The RET IVS1-126G > T variant is strongly associated with the\\ndevelopment of sporadic medullary thyroid cancer. Thyroid 2004,\\n14(4) :329-331.\\n16. Fernández RM, Peciña A, Antiñolo G, Navarro E, Borrego S: Analysis of RET\\npolymorphisms and haplotypes in the context of sporadic medullarythyroid carcinoma. Thyroid 2006, 16(4) :411-417.\\n17. Núñez-Torres R, Fernández RM, López-Alonso M, Antiñolo G, Borrego S: A\\nnovel study of copy number variations in Hirschsprung disease using\\n17. Núñez-Torres R, Fernández RM, López-Alonso M, Antiñolo G, Borrego S: A\\nnovel study of copy number variations in Hirschsprung disease using\\nthe multiple ligation-dependent probe amplification (MLPA) technique.\\nBMC Med Genet 2009, 10:119-124.\\n18. Sánchez-Mejías A, Núñez-Torres R, Fernández RM, Antiñolo G, Borrego S:\\nNovel MLPA procedure using self-designed probes allowscomprehensive analysis for CNVs of the genes involved in Hirschsprungdisease. BMC Med Genet 2010, 11:71-79.\\n19. Mulligan LM, Eng C, Attié T, Lyonnet S, Marsh DJ, Hyland VJ, Robinson BG,\\nFrilling A, Verellen-Dumoulin C, Safar A, et al:Diverse phenotypes\\nassociated with exon 10 mutations of the RET proto-oncogene. Hum Mol\\nGenet 1994, 3:2163-2167.\\n20. Wu TT, Tsai TW, Chu CT, Lee ZF, Hung CM, Su CC, Li SY, Hsieh M, Li C: Low\\nRET mutation frequency and polymorphism analysis of the RET andEDNRB genes in patients with Hirschsprung disease in Taiwan. J Hum\\nGenet 2005, 50(4) :168-74.\\nPre-publication historyThe pre-publication history for this paper can be accessed here:http://www.biomedcentral.com/1471-2350/12/138/prepub\\ndoi:10.1186/1471-2350-12-138\\nCite this article as: Núñez-Torres et al.:Comprehensive analysis of RET\\ncommon and rare variants in a series of Spanish Hirschsprung patientsconfirms a synergistic effect of both kinds of events. BMC Medical\\nGenetics 2011 12:138.\\nSubmit your next manuscript to BioMed Central\\nand take full advantage of: \\n• Convenient online submission\\n• Thorough peer review\\n• No space constraints or color ﬁgure charges\\n• Immediate publication on acceptance\\n• Inclusion in PubMed, CAS, Scopus and Google Scholar\\n• Research which is freely available for redistribution\\nSubmit your manuscript at \\nwww.biomedcentral.com/submitNúñez-Torres et al .BMC Medical Genetics 2011, 12:138\\nhttp://www.biomedcentral.com/1471-2350/12/138Page 7 of 7\\nRESEARCH ARTICLE Open Access\\nComprehensive analysis of RETcommon and rare\\nvariants in a series of Spanish Hirschsprung\\npatients confirms a synergistic effect of bothkinds of events\\nRocio Núñez-Torres1,2, Raquel M Fernández1,2, Manuel Jesus Acosta1,2, Maria del Valle Enguix-Riego1,2,\\nMartina Marbá3, Juan Carlos de Agustín4, Luis Castaño5, Guillermo Antiñolo1,2and Salud Borrego1,2*\\nAbstract\\nBackground: RETis the major gene associated to Hirschsprung disease (HSCR) with differential contributions of its\\nrare and common, coding and noncoding mutations to the multifactorial nature of this pathology. In the present\\nstudy, we have performed a comprehensive study of our HSCR series evaluating the involvement of both RETrare\\nvariants (RVs) and common variants (CVs) in the context of the disease.\\nMethods: RETmutational screening was performed by dHPLC and direct sequencing for the identification of RVs.\\nIn addition Taqman technology was applied for the genotyping of 3 RETCVs previously associated to HSCR,\\nincluding a variant lying in an enhancer domain within RETintron 1 (rs2435357). Statistical analyses were\\nperformed using the SPSS v.17.0 to analyze the distribution of the variants.\\nResults: Our results confirm the strongest association to HSCR for the “enhancer ”variant, and demonstrate a\\nsignificantly higher impact of it in male versus female patients. Integration of the RETRVs and CVs analysis showed\\nthat in 91.66% of cases with both kinds of mutational events, the enhancer allele is in trans with the allele bearing\\ntheRETRV.\\nConclusions: A gender effect exists on both the transmission and distribution of rare coding and common HSCR\\ncausing mutations. In addition, these RETCVs and RVs seem to act in a synergistic way leading to HSCR\\nphenotype.\\nBackground\\nHirschsprung disease (HSCR, OMIM #142623) is a con-\\n\\nQuestion:\\nIs Hirschsprung disease a mendelian or a multifactorial disorder?\",\n",
    "                }\n",
    "            ],\n",
    "            \"anthropic_version\": \"bedrock-2023-05-31\",\n",
    "            \"max_tokens\": 512,\n",
    "        }\n",
    "    ),\n",
    ")\n",
    "\n",
    "# Get and print response\n",
    "response_body = json.loads(response[\"body\"].read())\n",
    "print(response_body[\"content\"][0][\"text\"])"
   ]
  },
  {
   "cell_type": "code",
   "execution_count": 8,
   "metadata": {},
   "outputs": [
    {
     "name": "stdout",
     "output_type": "stream",
     "text": [
      "Credentials are valid!\n",
      "Account ID: 823728133631\n"
     ]
    }
   ],
   "source": [
    "sts = boto3.client(\n",
    "    \"sts\",\n",
    "    aws_access_key_id=aws_access_key,\n",
    "    aws_secret_access_key=aws_secret_key,\n",
    "    aws_session_token=config[\"BedRock_LLM_API\"][\"aws_session_token\"],\n",
    ")\n",
    "\n",
    "try:\n",
    "    # Try to get caller identity - this will fail if credentials are invalid\n",
    "    response = sts.get_caller_identity()\n",
    "    print(\"Credentials are valid!\")\n",
    "    print(f\"Account ID: {response['Account']}\")\n",
    "    # print(f\"User ARN: {response['Arn']}\")\n",
    "except Exception as e:\n",
    "    print(\"Credentials are invalid!\")\n",
    "    print(f\"Error: {str(e)}\")"
   ]
  }
 ],
 "metadata": {
  "kernelspec": {
   "display_name": "nvembed",
   "language": "python",
   "name": "python3"
  },
  "language_info": {
   "codemirror_mode": {
    "name": "ipython",
    "version": 3
   },
   "file_extension": ".py",
   "mimetype": "text/x-python",
   "name": "python",
   "nbconvert_exporter": "python",
   "pygments_lexer": "ipython3",
   "version": "3.9.19"
  }
 },
 "nbformat": 4,
 "nbformat_minor": 2
}
