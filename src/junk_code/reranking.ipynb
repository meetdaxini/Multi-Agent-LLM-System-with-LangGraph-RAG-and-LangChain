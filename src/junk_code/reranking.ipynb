{
 "cells": [
  {
   "cell_type": "code",
   "execution_count": 1,
   "metadata": {},
   "outputs": [
    {
     "name": "stderr",
     "output_type": "stream",
     "text": [
      "/home/ubuntu/miniconda3/envs/nvembed/lib/python3.9/site-packages/tqdm/auto.py:21: TqdmWarning: IProgress not found. Please update jupyter and ipywidgets. See https://ipywidgets.readthedocs.io/en/stable/user_install.html\n",
      "  from .autonotebook import tqdm as notebook_tqdm\n"
     ]
    }
   ],
   "source": [
    "from ragatouille import RAGPretrainedModel\n",
    "\n",
    "RAG = RAGPretrainedModel.from_pretrained(\"colbert-ir/colbertv2.0\")"
   ]
  },
  {
   "cell_type": "code",
   "execution_count": 2,
   "metadata": {},
   "outputs": [],
   "source": [
    "colbert = RAGPretrainedModel.from_pretrained(\"colbert-ir/colbertv2.0\")"
   ]
  },
  {
   "cell_type": "code",
   "execution_count": 3,
   "metadata": {},
   "outputs": [
    {
     "name": "stderr",
     "output_type": "stream",
     "text": [
      "100%|██████████| 1/1 [00:00<00:00, 66.08it/s]\n"
     ]
    }
   ],
   "source": [
    "docs = colbert.rerank(\n",
    "    query=\"What is Datasette Lite?\",\n",
    "    documents=[\n",
    "        d\n",
    "        for d in [\n",
    "            \"SQLite is a C-language library that implements a small, fast, self-contained, high-reliability, full-featured, SQL database engine. SQLite is the most used database engine in the world. SQLite is built into all mobile phones and most computers and comes bundled inside countless other applications that people use every day.\",\n",
    "            \"Datasette is a tool for exploring and publishing data. It helps people take data of any shape, analyze and explore it, and publish it as an interactive website and accompanying API.\",\n",
    "            \"SQLite is an embedded SQL database engine. Unlike most other SQL databases, SQLite does not have a separate server process. SQLite reads and writes directly to ordinary disk files. A complete SQL database with multiple tables, indices, triggers, and views, is contained in a single disk file. The database file format is cross-platform - you can freely copy a database between 32-bit and 64-bit systems or between big-endian and little-endian architectures. These features make SQLite a popular choice as an Application File Format. SQLite database files are a recommended storage format by the US Library of Congress. Think of SQLite not as a replacement for Oracle but as a replacement for fopen()\",\n",
    "            \"Streamlit is an open-source Python framework for data scientists and AI/ML engineers to deliver dynamic data apps with only a few lines of code.\",\n",
    "            \"Datasette Lite is Datasette packaged using WebAssembly so that it runs entirely in your browser, no Python web application server required.\",\n",
    "            \"Datasette Lite is a version of the Datasette data exploration tool that runs entirely within a web browser, utilizing WebAssembly technology to execute Python code directly in the browser, allowing users to explore and interact with data like CSV, SQLite, or JSON files without needing a separate server-side Python application; essentially, it lets you use Datasette functionality directly within your web browser\",\n",
    "        ]\n",
    "    ],\n",
    "    k=6,\n",
    ")"
   ]
  },
  {
   "cell_type": "code",
   "execution_count": 4,
   "metadata": {},
   "outputs": [
    {
     "data": {
      "text/plain": [
       "[{'content': 'Datasette Lite is a version of the Datasette data exploration tool that runs entirely within a web browser, utilizing WebAssembly technology to execute Python code directly in the browser, allowing users to explore and interact with data like CSV, SQLite, or JSON files without needing a separate server-side Python application; essentially, it lets you use Datasette functionality directly within your web browser',\n",
       "  'score': 28.609375,\n",
       "  'rank': 0,\n",
       "  'result_index': 5},\n",
       " {'content': 'Datasette Lite is Datasette packaged using WebAssembly so that it runs entirely in your browser, no Python web application server required.',\n",
       "  'score': 28.28125,\n",
       "  'rank': 1,\n",
       "  'result_index': 4},\n",
       " {'content': 'Datasette is a tool for exploring and publishing data. It helps people take data of any shape, analyze and explore it, and publish it as an interactive website and accompanying API.',\n",
       "  'score': 25.625,\n",
       "  'rank': 2,\n",
       "  'result_index': 1},\n",
       " {'content': 'Streamlit is an open-source Python framework for data scientists and AI/ML engineers to deliver dynamic data apps with only a few lines of code.',\n",
       "  'score': 16.671875,\n",
       "  'rank': 3,\n",
       "  'result_index': 3},\n",
       " {'content': 'SQLite is a C-language library that implements a small, fast, self-contained, high-reliability, full-featured, SQL database engine. SQLite is the most used database engine in the world. SQLite is built into all mobile phones and most computers and comes bundled inside countless other applications that people use every day.',\n",
       "  'score': 10.3984375,\n",
       "  'rank': 4,\n",
       "  'result_index': 0},\n",
       " {'content': 'SQLite is an embedded SQL database engine. Unlike most other SQL databases, SQLite does not have a separate server process. SQLite reads and writes directly to ordinary disk files. A complete SQL database with multiple tables, indices, triggers, and views, is contained in a single disk file. The database file format is cross-platform - you can freely copy a database between 32-bit and 64-bit systems or between big-endian and little-endian architectures. These features make SQLite a popular choice as an Application File Format. SQLite database files are a recommended storage format by the US Library of Congress. Think of SQLite not as a replacement for Oracle but as a replacement for fopen()',\n",
       "  'score': 8.6015625,\n",
       "  'rank': 5,\n",
       "  'result_index': 2}]"
      ]
     },
     "execution_count": 4,
     "metadata": {},
     "output_type": "execute_result"
    }
   ],
   "source": [
    "docs"
   ]
  },
  {
   "cell_type": "code",
   "execution_count": null,
   "metadata": {},
   "outputs": [],
   "source": []
  }
 ],
 "metadata": {
  "kernelspec": {
   "display_name": "nvembed",
   "language": "python",
   "name": "python3"
  },
  "language_info": {
   "codemirror_mode": {
    "name": "ipython",
    "version": 3
   },
   "file_extension": ".py",
   "mimetype": "text/x-python",
   "name": "python",
   "nbconvert_exporter": "python",
   "pygments_lexer": "ipython3",
   "version": "3.9.19"
  }
 },
 "nbformat": 4,
 "nbformat_minor": 2
}
