{
 "cells": [
  {
   "cell_type": "code",
   "execution_count": 1,
   "metadata": {},
   "outputs": [],
   "source": [
    "import chromadb\n",
    "\n",
    "chroma_client = chromadb.Client()"
   ]
  },
  {
   "cell_type": "code",
   "execution_count": 2,
   "metadata": {},
   "outputs": [],
   "source": [
    "collection = chroma_client.create_collection(name=\"my_collection_1\")"
   ]
  },
  {
   "cell_type": "code",
   "execution_count": 3,
   "metadata": {},
   "outputs": [
    {
     "name": "stderr",
     "output_type": "stream",
     "text": [
      "/home/ubuntu/.cache/chroma/onnx_models/all-MiniLM-L6-v2/onnx.tar.gz: 100%|██████████| 79.3M/79.3M [00:00<00:00, 103MiB/s] \n"
     ]
    }
   ],
   "source": [
    "collection.add(\n",
    "    documents=[\n",
    "        \"This is a document about pineapple\",\n",
    "        \"This is a document about oranges\",\n",
    "    ],\n",
    "    ids=[\"id1\", \"id2\"],\n",
    ")"
   ]
  },
  {
   "cell_type": "code",
   "execution_count": 4,
   "metadata": {},
   "outputs": [
    {
     "name": "stdout",
     "output_type": "stream",
     "text": [
      "{'ids': [['id1', 'id2']], 'distances': [[1.0404009819030762, 1.2430799007415771]], 'metadatas': [[None, None]], 'embeddings': None, 'documents': [['This is a document about pineapple', 'This is a document about oranges']], 'uris': None, 'data': None, 'included': ['metadatas', 'documents', 'distances']}\n"
     ]
    }
   ],
   "source": [
    "results = collection.query(\n",
    "    query_texts=[\n",
    "        \"This is a query document about hawaii\"\n",
    "    ],  # Chroma will embed this for you\n",
    "    n_results=2,  # how many results to return\n",
    ")\n",
    "print(results)"
   ]
  },
  {
   "cell_type": "code",
   "execution_count": 1,
   "metadata": {},
   "outputs": [],
   "source": [
    "import chromadb"
   ]
  },
  {
   "cell_type": "code",
   "execution_count": 42,
   "metadata": {},
   "outputs": [],
   "source": [
    "client = client = chromadb.HttpClient(host='localhost', port=8000)\n"
   ]
  },
  {
   "cell_type": "code",
   "execution_count": 4,
   "metadata": {},
   "outputs": [
    {
     "ename": "InvalidCollectionException",
     "evalue": "Collection test does not exist.",
     "output_type": "error",
     "traceback": [
      "\u001b[0;31m---------------------------------------------------------------------------\u001b[0m",
      "\u001b[0;31mInvalidCollectionException\u001b[0m                Traceback (most recent call last)",
      "Cell \u001b[0;32mIn[4], line 1\u001b[0m\n\u001b[0;32m----> 1\u001b[0m collection \u001b[38;5;241m=\u001b[39m \u001b[43mclient\u001b[49m\u001b[38;5;241;43m.\u001b[39;49m\u001b[43mget_collection\u001b[49m\u001b[43m(\u001b[49m\n\u001b[1;32m      2\u001b[0m \u001b[43m    \u001b[49m\u001b[43mname\u001b[49m\u001b[38;5;241;43m=\u001b[39;49m\u001b[38;5;124;43m\"\u001b[39;49m\u001b[38;5;124;43mtest\u001b[39;49m\u001b[38;5;124;43m\"\u001b[39;49m\n\u001b[1;32m      3\u001b[0m \u001b[43m)\u001b[49m  \u001b[38;5;66;03m# Get a collection object from an existing collection, by name. Will raise an exception if it's not found.\u001b[39;00m\n",
      "File \u001b[0;32m~/miniconda3/envs/nvembed/lib/python3.9/site-packages/chromadb/api/client.py:142\u001b[0m, in \u001b[0;36mClient.get_collection\u001b[0;34m(self, name, id, embedding_function, data_loader)\u001b[0m\n\u001b[1;32m    132\u001b[0m \u001b[38;5;129m@override\u001b[39m\n\u001b[1;32m    133\u001b[0m \u001b[38;5;28;01mdef\u001b[39;00m \u001b[38;5;21mget_collection\u001b[39m(\n\u001b[1;32m    134\u001b[0m     \u001b[38;5;28mself\u001b[39m,\n\u001b[0;32m   (...)\u001b[0m\n\u001b[1;32m    140\u001b[0m     data_loader: Optional[DataLoader[Loadable]] \u001b[38;5;241m=\u001b[39m \u001b[38;5;28;01mNone\u001b[39;00m,\n\u001b[1;32m    141\u001b[0m ) \u001b[38;5;241m-\u001b[39m\u001b[38;5;241m>\u001b[39m Collection:\n\u001b[0;32m--> 142\u001b[0m     model \u001b[38;5;241m=\u001b[39m \u001b[38;5;28;43mself\u001b[39;49m\u001b[38;5;241;43m.\u001b[39;49m\u001b[43m_server\u001b[49m\u001b[38;5;241;43m.\u001b[39;49m\u001b[43mget_collection\u001b[49m\u001b[43m(\u001b[49m\n\u001b[1;32m    143\u001b[0m \u001b[43m        \u001b[49m\u001b[38;5;28;43mid\u001b[39;49m\u001b[38;5;241;43m=\u001b[39;49m\u001b[38;5;28;43mid\u001b[39;49m\u001b[43m,\u001b[49m\n\u001b[1;32m    144\u001b[0m \u001b[43m        \u001b[49m\u001b[43mname\u001b[49m\u001b[38;5;241;43m=\u001b[39;49m\u001b[43mname\u001b[49m\u001b[43m,\u001b[49m\n\u001b[1;32m    145\u001b[0m \u001b[43m        \u001b[49m\u001b[43mtenant\u001b[49m\u001b[38;5;241;43m=\u001b[39;49m\u001b[38;5;28;43mself\u001b[39;49m\u001b[38;5;241;43m.\u001b[39;49m\u001b[43mtenant\u001b[49m\u001b[43m,\u001b[49m\n\u001b[1;32m    146\u001b[0m \u001b[43m        \u001b[49m\u001b[43mdatabase\u001b[49m\u001b[38;5;241;43m=\u001b[39;49m\u001b[38;5;28;43mself\u001b[39;49m\u001b[38;5;241;43m.\u001b[39;49m\u001b[43mdatabase\u001b[49m\u001b[43m,\u001b[49m\n\u001b[1;32m    147\u001b[0m \u001b[43m    \u001b[49m\u001b[43m)\u001b[49m\n\u001b[1;32m    148\u001b[0m     \u001b[38;5;28;01mreturn\u001b[39;00m Collection(\n\u001b[1;32m    149\u001b[0m         client\u001b[38;5;241m=\u001b[39m\u001b[38;5;28mself\u001b[39m\u001b[38;5;241m.\u001b[39m_server,\n\u001b[1;32m    150\u001b[0m         model\u001b[38;5;241m=\u001b[39mmodel,\n\u001b[1;32m    151\u001b[0m         embedding_function\u001b[38;5;241m=\u001b[39membedding_function,\n\u001b[1;32m    152\u001b[0m         data_loader\u001b[38;5;241m=\u001b[39mdata_loader,\n\u001b[1;32m    153\u001b[0m     )\n",
      "File \u001b[0;32m~/miniconda3/envs/nvembed/lib/python3.9/site-packages/chromadb/telemetry/opentelemetry/__init__.py:146\u001b[0m, in \u001b[0;36mtrace_method.<locals>.decorator.<locals>.wrapper\u001b[0;34m(*args, **kwargs)\u001b[0m\n\u001b[1;32m    144\u001b[0m \u001b[38;5;28;01mglobal\u001b[39;00m tracer, granularity\n\u001b[1;32m    145\u001b[0m \u001b[38;5;28;01mif\u001b[39;00m trace_granularity \u001b[38;5;241m<\u001b[39m granularity:\n\u001b[0;32m--> 146\u001b[0m     \u001b[38;5;28;01mreturn\u001b[39;00m \u001b[43mf\u001b[49m\u001b[43m(\u001b[49m\u001b[38;5;241;43m*\u001b[39;49m\u001b[43margs\u001b[49m\u001b[43m,\u001b[49m\u001b[43m \u001b[49m\u001b[38;5;241;43m*\u001b[39;49m\u001b[38;5;241;43m*\u001b[39;49m\u001b[43mkwargs\u001b[49m\u001b[43m)\u001b[49m\n\u001b[1;32m    147\u001b[0m \u001b[38;5;28;01mif\u001b[39;00m \u001b[38;5;129;01mnot\u001b[39;00m tracer:\n\u001b[1;32m    148\u001b[0m     \u001b[38;5;28;01mreturn\u001b[39;00m f(\u001b[38;5;241m*\u001b[39margs, \u001b[38;5;241m*\u001b[39m\u001b[38;5;241m*\u001b[39mkwargs)\n",
      "File \u001b[0;32m~/miniconda3/envs/nvembed/lib/python3.9/site-packages/chromadb/api/segment.py:253\u001b[0m, in \u001b[0;36mSegmentAPI.get_collection\u001b[0;34m(self, name, id, tenant, database)\u001b[0m\n\u001b[1;32m    251\u001b[0m     \u001b[38;5;28;01mreturn\u001b[39;00m existing[\u001b[38;5;241m0\u001b[39m]\n\u001b[1;32m    252\u001b[0m \u001b[38;5;28;01melse\u001b[39;00m:\n\u001b[0;32m--> 253\u001b[0m     \u001b[38;5;28;01mraise\u001b[39;00m InvalidCollectionException(\u001b[38;5;124mf\u001b[39m\u001b[38;5;124m\"\u001b[39m\u001b[38;5;124mCollection \u001b[39m\u001b[38;5;132;01m{\u001b[39;00mname\u001b[38;5;132;01m}\u001b[39;00m\u001b[38;5;124m does not exist.\u001b[39m\u001b[38;5;124m\"\u001b[39m)\n",
      "\u001b[0;31mInvalidCollectionException\u001b[0m: Collection test does not exist."
     ]
    }
   ],
   "source": [
    "collection = client.get_collection(\n",
    "    name=\"test\"\n",
    ")  # Get a collection object from an existing collection, by name. Will raise an exception if it's not found."
   ]
  },
  {
   "cell_type": "code",
   "execution_count": 5,
   "metadata": {},
   "outputs": [],
   "source": [
    "collection = client.get_or_create_collection(\n",
    "    name=\"test\"\n",
    ")  # Get a collection object from an existing collection, by name. Will raise an exception if it's not found."
   ]
  },
  {
   "cell_type": "code",
   "execution_count": 6,
   "metadata": {},
   "outputs": [
    {
     "data": {
      "text/plain": [
       "{'ids': [],\n",
       " 'embeddings': array([], dtype=float64),\n",
       " 'metadatas': [],\n",
       " 'documents': [],\n",
       " 'uris': None,\n",
       " 'data': None,\n",
       " 'included': ['embeddings', 'metadatas', 'documents']}"
      ]
     },
     "execution_count": 6,
     "metadata": {},
     "output_type": "execute_result"
    }
   ],
   "source": [
    "collection.peek()  # returns a list of the first 10 items in the collection"
   ]
  },
  {
   "cell_type": "code",
   "execution_count": null,
   "metadata": {},
   "outputs": [],
   "source": [
    "# collection.modify(name=\"new_name\") "
   ]
  },
  {
   "cell_type": "code",
   "execution_count": 7,
   "metadata": {},
   "outputs": [],
   "source": [
    "from src.my_rag.components.embeddings.huggingface_embedding import HuggingFaceEmbedding "
   ]
  },
  {
   "cell_type": "code",
   "execution_count": 9,
   "metadata": {},
   "outputs": [],
   "source": [
    "embedding_model = HuggingFaceEmbedding(\n",
    "    model_name=\"sentence-transformers/all-MiniLM-L6-v2\",\n",
    "    load_in_8bit=False,\n",
    "    trust_remote_code=False,\n",
    "    device_map=\"auto\",\n",
    "    max_memory={0: \"18000MB\", \"cpu\": \"18000MB\"},\n",
    ")"
   ]
  },
  {
   "cell_type": "code",
   "execution_count": 11,
   "metadata": {},
   "outputs": [
    {
     "data": {
      "text/plain": [
       "array([[-9.04761925e-02,  4.04396132e-02,  2.39056572e-02,\n",
       "         5.89479990e-02, -2.28823405e-02, -4.72201072e-02,\n",
       "         4.50475514e-02,  1.57863349e-02, -4.81995530e-02,\n",
       "        -3.77941206e-02, -1.90776531e-02,  2.13088430e-02,\n",
       "        -4.68305172e-03, -4.33081612e-02,  5.99147864e-02,\n",
       "         5.91033697e-02, -2.80367490e-02, -5.92183471e-02,\n",
       "        -1.24403104e-01, -3.56000178e-02, -6.08058181e-03,\n",
       "         3.24291028e-02, -3.78007405e-02,  2.47109868e-02,\n",
       "        -4.27243076e-02, -4.24539112e-02,  4.59356755e-02,\n",
       "         9.86255482e-02, -4.99980114e-02, -3.52358632e-02,\n",
       "         7.08397701e-02,  3.31632085e-02,  2.65883636e-02,\n",
       "         1.73202774e-04,  3.88165796e-03,  3.04672439e-02,\n",
       "        -7.82026127e-02, -1.20379560e-01,  1.80415157e-02,\n",
       "         2.28290595e-02, -1.77502877e-03, -2.34498531e-02,\n",
       "         3.05810804e-03,  2.43557282e-02,  4.41539697e-02,\n",
       "        -4.01097238e-02,  2.01923642e-02,  1.08881490e-02,\n",
       "         2.87315156e-02,  1.23677244e-02, -9.13190544e-02,\n",
       "        -6.81244358e-02,  6.19149907e-03, -1.25605306e-02,\n",
       "         9.28249285e-02,  2.79071294e-02, -3.12197674e-02,\n",
       "        -2.52352189e-02,  7.84362182e-02, -7.33027086e-02,\n",
       "        -6.69823289e-02,  1.39002735e-02, -1.42814472e-01,\n",
       "         8.77207983e-03,  2.07010359e-02,  9.08180809e-05,\n",
       "        -5.91358356e-02, -6.52026683e-02, -3.80247310e-02,\n",
       "        -6.19724579e-02, -2.50724214e-03, -4.24508145e-03,\n",
       "        -4.13620248e-02, -4.95713055e-02,  2.24600956e-02,\n",
       "        -3.56281288e-02,  4.03861888e-02,  4.88409735e-02,\n",
       "         5.20195812e-02,  3.16421427e-02,  3.02730966e-02,\n",
       "        -3.80800031e-02, -1.65185370e-02, -6.83410279e-03,\n",
       "        -8.96494277e-03, -3.80861275e-02,  2.37353202e-02,\n",
       "        -8.56118090e-03, -5.12796231e-02,  1.02583766e-02,\n",
       "        -1.06715277e-01,  5.38775958e-02,  3.03737894e-02,\n",
       "        -3.54465917e-02, -7.69298747e-02, -6.11885637e-02,\n",
       "         7.78369308e-02,  1.08471839e-03, -1.23568349e-01,\n",
       "         2.79173702e-01,  4.79933210e-02,  5.21415100e-02,\n",
       "         4.21877131e-02,  1.02176882e-01, -2.11792663e-02,\n",
       "         5.31467237e-02, -5.25943637e-02,  7.74885044e-02,\n",
       "        -5.98227093e-03,  2.23340672e-02,  2.56445762e-02,\n",
       "        -1.77129381e-03, -2.79253498e-02, -1.91524904e-02,\n",
       "         5.49053289e-02,  7.07537532e-02, -3.37207364e-03,\n",
       "         7.49425869e-03,  2.57696044e-02, -7.10281879e-02,\n",
       "        -2.47852821e-02, -5.38526922e-02,  3.37568931e-02,\n",
       "        -4.50824760e-02, -1.98343620e-02, -2.40075942e-02,\n",
       "         3.07831285e-03, -4.39805077e-33,  7.13740960e-02,\n",
       "        -2.46291701e-02,  4.34765629e-02,  8.48252550e-02,\n",
       "        -4.63567302e-02, -3.41023579e-02, -2.29421277e-02,\n",
       "        -4.99800928e-02,  2.06041406e-03,  5.18273748e-03,\n",
       "         8.05831142e-03,  5.91131160e-03, -4.03364487e-02,\n",
       "        -2.34228955e-03, -2.57337335e-02,  3.13820019e-02,\n",
       "         4.91706952e-02,  5.95756024e-02,  3.62814926e-02,\n",
       "         3.59637439e-02, -7.95032904e-02, -3.18895467e-02,\n",
       "         2.03540195e-02,  5.40887341e-02,  3.40220854e-02,\n",
       "        -2.66800392e-02,  5.13580535e-03, -1.37623325e-01,\n",
       "         5.35682179e-02,  6.24607988e-02,  4.66554537e-02,\n",
       "         8.25162604e-03, -1.12274801e-03,  1.58642326e-02,\n",
       "        -1.48686469e-02, -1.06545212e-02,  1.39251854e-02,\n",
       "        -5.11116125e-02, -5.11570349e-02,  1.81104504e-02,\n",
       "        -2.60318313e-02,  4.10491899e-02,  6.18397333e-02,\n",
       "        -4.09641266e-02,  2.03002505e-02,  4.35215905e-02,\n",
       "         1.52085349e-02,  2.21399590e-02,  5.85429231e-03,\n",
       "         3.38418670e-02, -5.83183542e-02,  4.04238328e-03,\n",
       "        -1.38970777e-01,  4.21360787e-03, -5.61998086e-03,\n",
       "        -4.35497053e-02, -5.90709457e-03, -7.45447725e-02,\n",
       "         8.35962072e-02,  4.02504280e-02,  3.14086676e-02,\n",
       "         7.68126026e-02, -2.74488982e-02,  1.83432605e-02,\n",
       "        -1.53332189e-01, -3.48913111e-02,  4.94039766e-02,\n",
       "        -3.46934497e-02,  1.14418171e-01, -2.06293967e-02,\n",
       "        -4.37950641e-02, -1.24855973e-02,  7.63985189e-03,\n",
       "         4.81630228e-02, -3.52325477e-02,  3.67844328e-02,\n",
       "         6.14347197e-02,  1.70742907e-02,  1.93933006e-02,\n",
       "        -1.52372941e-02, -4.23127227e-03,  4.59324941e-02,\n",
       "        -8.32644757e-03,  1.58503894e-02,  5.95140010e-02,\n",
       "        -9.18050297e-03, -1.49881570e-02, -6.76252618e-02,\n",
       "        -7.32812881e-02, -3.96396108e-02, -7.59297833e-02,\n",
       "         2.27835067e-02,  8.00923780e-02, -2.19015628e-02,\n",
       "         1.66906733e-02,  3.85790928e-33,  9.64369550e-02,\n",
       "         6.16989657e-02, -5.79452068e-02, -1.41536361e-02,\n",
       "        -1.89404059e-02, -1.41951088e-02, -2.27922620e-03,\n",
       "         8.97948891e-02, -8.37799981e-02, -2.26818956e-02,\n",
       "         6.83508292e-02, -3.02901510e-02,  6.81150034e-02,\n",
       "         1.75223723e-02,  4.47527058e-02,  2.56442539e-02,\n",
       "         9.22513902e-02,  4.75600660e-02, -7.28711933e-02,\n",
       "         4.11396706e-03, -3.27286050e-02, -3.42148393e-02,\n",
       "        -9.29743275e-02, -6.22672364e-02, -7.87801202e-03,\n",
       "         5.04698046e-03,  1.51909655e-02,  6.85869306e-02,\n",
       "        -5.93003780e-02, -2.59446725e-02,  7.01025277e-02,\n",
       "        -9.64848883e-03,  1.14026060e-02,  5.20744883e-02,\n",
       "         1.79106952e-03,  1.04113445e-01,  1.21683525e-02,\n",
       "        -7.34238029e-02,  3.34012620e-02, -9.78091359e-02,\n",
       "        -4.58964631e-02,  2.78539043e-02, -1.98339485e-02,\n",
       "         9.23915431e-02, -1.23828696e-02, -3.98117751e-02,\n",
       "         5.08524943e-03,  4.14595976e-02, -8.42346027e-02,\n",
       "         1.00746313e-02, -8.32034722e-02, -2.83304490e-02,\n",
       "         4.24229167e-02,  4.08154260e-03, -4.56181690e-02,\n",
       "         5.45456484e-02,  1.30895032e-02,  5.93257211e-02,\n",
       "         3.16439308e-02,  1.33297918e-02,  1.34293027e-02,\n",
       "         5.42032868e-02,  8.32041539e-03,  8.84347036e-02,\n",
       "         2.47975867e-02,  3.48344818e-02, -1.57303158e-02,\n",
       "        -9.23915952e-03, -3.04033682e-02, -5.37001379e-02,\n",
       "         4.26000804e-02, -9.55903810e-03,  3.53703573e-02,\n",
       "         2.62070820e-02, -1.59973502e-02, -2.27996949e-02,\n",
       "         1.13233794e-02,  3.48057225e-02, -1.15094648e-04,\n",
       "         6.14551269e-02,  2.60663759e-02, -3.48999817e-03,\n",
       "        -2.68242806e-02,  4.36767191e-02,  1.96861848e-02,\n",
       "         1.42173879e-02,  4.13493775e-02,  3.12109962e-02,\n",
       "        -2.94173649e-03, -5.59458435e-02,  7.75544951e-03,\n",
       "         7.96629712e-02,  7.01818764e-02, -5.30648641e-02,\n",
       "         8.65290780e-03, -1.44800048e-08,  2.99871173e-02,\n",
       "        -3.74178961e-02,  6.35030493e-02,  9.18340087e-02,\n",
       "         5.34940474e-02,  5.86865917e-02, -2.92608440e-02,\n",
       "        -1.45441899e-02, -3.18563469e-02,  4.17881757e-02,\n",
       "         5.59053048e-02,  3.48980762e-02, -3.88737097e-02,\n",
       "        -5.25139943e-02,  5.35427965e-02, -2.30163168e-02,\n",
       "        -2.96264868e-02,  4.33764532e-02, -5.71561530e-02,\n",
       "        -1.37616098e-01,  3.65539119e-02,  2.52274834e-02,\n",
       "         2.29082722e-03, -3.21154855e-02,  7.02533079e-03,\n",
       "        -6.36367276e-02, -3.57009545e-02, -1.72425993e-03,\n",
       "         1.16312131e-02, -6.13933578e-02, -1.34475473e-02,\n",
       "         1.83892548e-01, -7.69878039e-03, -1.57938953e-02,\n",
       "         2.97546629e-02, -2.22598929e-02, -9.80210956e-03,\n",
       "        -1.19002033e-02,  6.23303615e-02, -2.51287259e-02,\n",
       "        -4.21327800e-02, -5.61932810e-02, -4.12699543e-02,\n",
       "        -3.24219242e-02, -1.57817416e-02,  4.64272387e-02,\n",
       "         1.15918391e-03, -5.41495048e-02,  3.64914425e-02,\n",
       "        -6.65330216e-02, -4.34341691e-02, -2.28455644e-02,\n",
       "         5.47489487e-02,  7.31126368e-02,  3.00163869e-02,\n",
       "         6.17795885e-02,  1.61923077e-02,  1.22879734e-02,\n",
       "        -5.36390953e-03, -8.56417883e-03,  1.50863826e-01,\n",
       "         6.81503862e-02,  1.78655945e-02,  1.12762284e-02]], dtype=float32)"
      ]
     },
     "execution_count": 11,
     "metadata": {},
     "output_type": "execute_result"
    }
   ],
   "source": [
    "embedding_model.embed(\n",
    "    [\n",
    "        \"lorem ipsum...\",\n",
    "        \"doc2\",\n",
    "        \"doc3\",\n",
    "    ]\n",
    ").cpu().numpy()"
   ]
  },
  {
   "cell_type": "code",
   "execution_count": 12,
   "metadata": {},
   "outputs": [],
   "source": [
    "collection.add(\n",
    "    documents=[\"lorem ipsum...\", \"doc2\", \"doc3\", ],\n",
    "    metadatas=[\n",
    "        {\"chapter\": \"3\", \"verse\": \"16\"},\n",
    "        {\"chapter\": \"3\", \"verse\": \"5\"},\n",
    "        {\"chapter\": \"29\", \"verse\": \"11\"},\n",
    "    ],\n",
    "    ids=[\"id1\", \"id2\", \"id3\",],\n",
    "    embeddings=embedding_model.embed(\n",
    "    [\n",
    "        \"lorem ipsum...\",\n",
    "        \"doc2\",\n",
    "        \"doc3\",\n",
    "    ]\n",
    ").cpu().numpy()\n",
    ")"
   ]
  },
  {
   "cell_type": "code",
   "execution_count": 13,
   "metadata": {},
   "outputs": [
    {
     "data": {
      "text/plain": [
       "{'ids': ['id1', 'id2', 'id3'],\n",
       " 'embeddings': array([[ 0.03684679,  0.02051687,  0.07883837, ..., -0.10914503,\n",
       "          0.02406924, -0.00106997],\n",
       "        [-0.05694772,  0.00664129,  0.07214396, ...,  0.04491494,\n",
       "          0.03988827,  0.01339069],\n",
       "        [-0.07116625, -0.00156549,  0.02162257, ...,  0.02111645,\n",
       "          0.03343027,  0.01777468]]),\n",
       " 'metadatas': [{'chapter': '3', 'verse': '16'},\n",
       "  {'chapter': '3', 'verse': '5'},\n",
       "  {'chapter': '29', 'verse': '11'}],\n",
       " 'documents': ['lorem ipsum...', 'doc2', 'doc3'],\n",
       " 'uris': None,\n",
       " 'data': None,\n",
       " 'included': ['embeddings', 'metadatas', 'documents']}"
      ]
     },
     "execution_count": 13,
     "metadata": {},
     "output_type": "execute_result"
    }
   ],
   "source": [
    "collection.peek()"
   ]
  },
  {
   "cell_type": "code",
   "execution_count": 16,
   "metadata": {},
   "outputs": [],
   "source": [
    "query_em = embeddings = (\n",
    "    embedding_model.embed(\n",
    "        [\n",
    "            \"document\",\n",
    "        ]\n",
    "    )\n",
    "    .cpu()\n",
    "    .numpy()\n",
    ")"
   ]
  },
  {
   "cell_type": "code",
   "execution_count": null,
   "metadata": {},
   "outputs": [],
   "source": []
  },
  {
   "cell_type": "code",
   "execution_count": 31,
   "metadata": {},
   "outputs": [
    {
     "name": "stderr",
     "output_type": "stream",
     "text": [
      "Number of requested results 10 is greater than number of elements in index 3, updating n_results = 3\n"
     ]
    },
    {
     "data": {
      "text/plain": [
       "{'ids': [['id3']],\n",
       " 'distances': [[0.9319435853838086]],\n",
       " 'metadatas': [[{'chapter': '29', 'verse': '11'}]],\n",
       " 'embeddings': None,\n",
       " 'documents': [['doc3']],\n",
       " 'uris': None,\n",
       " 'data': None,\n",
       " 'included': ['metadatas', 'documents', 'distances']}"
      ]
     },
     "execution_count": 31,
     "metadata": {},
     "output_type": "execute_result"
    }
   ],
   "source": [
    "collection.query(\n",
    "    query_embeddings=query_em,\n",
    "    n_results=10,\n",
    "    where={\"chapter\":  \"29\"},\n",
    "    # where={\"metadatas__chapter\": \"3\"},\n",
    "    where_document={\"$contains\": \"doc\"},\n",
    ")"
   ]
  },
  {
   "cell_type": "code",
   "execution_count": 33,
   "metadata": {},
   "outputs": [
    {
     "ename": "ValueError",
     "evalue": "Changing the distance function of a collection once it is created is not supported currently.",
     "output_type": "error",
     "traceback": [
      "\u001b[0;31m---------------------------------------------------------------------------\u001b[0m",
      "\u001b[0;31mValueError\u001b[0m                                Traceback (most recent call last)",
      "Cell \u001b[0;32mIn[33], line 1\u001b[0m\n\u001b[0;32m----> 1\u001b[0m \u001b[43mcollection\u001b[49m\u001b[38;5;241;43m.\u001b[39;49m\u001b[43mmodify\u001b[49m\u001b[43m(\u001b[49m\u001b[43mmetadata\u001b[49m\u001b[38;5;241;43m=\u001b[39;49m\u001b[43m{\u001b[49m\u001b[38;5;124;43m\"\u001b[39;49m\u001b[38;5;124;43mhnsw:space\u001b[39;49m\u001b[38;5;124;43m\"\u001b[39;49m\u001b[43m:\u001b[49m\u001b[43m \u001b[49m\u001b[38;5;124;43m\"\u001b[39;49m\u001b[38;5;124;43mcosine\u001b[39;49m\u001b[38;5;124;43m\"\u001b[39;49m\u001b[43m}\u001b[49m\u001b[43m)\u001b[49m\n",
      "File \u001b[0;32m~/miniconda3/envs/nvembed/lib/python3.9/site-packages/chromadb/api/models/Collection.py:221\u001b[0m, in \u001b[0;36mCollection.modify\u001b[0;34m(self, name, metadata)\u001b[0m\n\u001b[1;32m    208\u001b[0m \u001b[38;5;28;01mdef\u001b[39;00m \u001b[38;5;21mmodify\u001b[39m(\n\u001b[1;32m    209\u001b[0m     \u001b[38;5;28mself\u001b[39m, name: Optional[\u001b[38;5;28mstr\u001b[39m] \u001b[38;5;241m=\u001b[39m \u001b[38;5;28;01mNone\u001b[39;00m, metadata: Optional[CollectionMetadata] \u001b[38;5;241m=\u001b[39m \u001b[38;5;28;01mNone\u001b[39;00m\n\u001b[1;32m    210\u001b[0m ) \u001b[38;5;241m-\u001b[39m\u001b[38;5;241m>\u001b[39m \u001b[38;5;28;01mNone\u001b[39;00m:\n\u001b[1;32m    211\u001b[0m \u001b[38;5;250m    \u001b[39m\u001b[38;5;124;03m\"\"\"Modify the collection name or metadata\u001b[39;00m\n\u001b[1;32m    212\u001b[0m \n\u001b[1;32m    213\u001b[0m \u001b[38;5;124;03m    Args:\u001b[39;00m\n\u001b[0;32m   (...)\u001b[0m\n\u001b[1;32m    218\u001b[0m \u001b[38;5;124;03m        None\u001b[39;00m\n\u001b[1;32m    219\u001b[0m \u001b[38;5;124;03m    \"\"\"\u001b[39;00m\n\u001b[0;32m--> 221\u001b[0m     \u001b[38;5;28;43mself\u001b[39;49m\u001b[38;5;241;43m.\u001b[39;49m\u001b[43m_validate_modify_request\u001b[49m\u001b[43m(\u001b[49m\u001b[43mmetadata\u001b[49m\u001b[43m)\u001b[49m\n\u001b[1;32m    223\u001b[0m     \u001b[38;5;66;03m# Note there is a race condition here where the metadata can be updated\u001b[39;00m\n\u001b[1;32m    224\u001b[0m     \u001b[38;5;66;03m# but another thread sees the cached local metadata.\u001b[39;00m\n\u001b[1;32m    225\u001b[0m     \u001b[38;5;66;03m# TODO: fixme\u001b[39;00m\n\u001b[1;32m    226\u001b[0m     \u001b[38;5;28mself\u001b[39m\u001b[38;5;241m.\u001b[39m_client\u001b[38;5;241m.\u001b[39m_modify(\u001b[38;5;28mid\u001b[39m\u001b[38;5;241m=\u001b[39m\u001b[38;5;28mself\u001b[39m\u001b[38;5;241m.\u001b[39mid, new_name\u001b[38;5;241m=\u001b[39mname, new_metadata\u001b[38;5;241m=\u001b[39mmetadata)\n",
      "File \u001b[0;32m~/miniconda3/envs/nvembed/lib/python3.9/site-packages/chromadb/api/models/CollectionCommon.py:456\u001b[0m, in \u001b[0;36mCollectionCommon._validate_modify_request\u001b[0;34m(self, metadata)\u001b[0m\n\u001b[1;32m    454\u001b[0m validate_metadata(metadata)\n\u001b[1;32m    455\u001b[0m \u001b[38;5;28;01mif\u001b[39;00m \u001b[38;5;124m\"\u001b[39m\u001b[38;5;124mhnsw:space\u001b[39m\u001b[38;5;124m\"\u001b[39m \u001b[38;5;129;01min\u001b[39;00m metadata:\n\u001b[0;32m--> 456\u001b[0m     \u001b[38;5;28;01mraise\u001b[39;00m \u001b[38;5;167;01mValueError\u001b[39;00m(\n\u001b[1;32m    457\u001b[0m         \u001b[38;5;124m\"\u001b[39m\u001b[38;5;124mChanging the distance function of a collection once it is created is not supported currently.\u001b[39m\u001b[38;5;124m\"\u001b[39m\n\u001b[1;32m    458\u001b[0m     )\n",
      "\u001b[0;31mValueError\u001b[0m: Changing the distance function of a collection once it is created is not supported currently."
     ]
    }
   ],
   "source": [
    "collection.modify(metadata={\"hnsw:space\": \"cosine\"})"
   ]
  },
  {
   "cell_type": "code",
   "execution_count": 36,
   "metadata": {},
   "outputs": [
    {
     "name": "stdout",
     "output_type": "stream",
     "text": [
      "env: ALLOW_RESET=TRUE\n"
     ]
    }
   ],
   "source": [
    "%env ALLOW_RESET = TRUE"
   ]
  },
  {
   "cell_type": "code",
   "execution_count": 37,
   "metadata": {},
   "outputs": [
    {
     "ename": "ValueError",
     "evalue": "Resetting is not allowed by this configuration (to enable it, set `allow_reset` to `True` in your Settings() or include `ALLOW_RESET=TRUE` in your environment variables)",
     "output_type": "error",
     "traceback": [
      "\u001b[0;31m---------------------------------------------------------------------------\u001b[0m",
      "\u001b[0;31mValueError\u001b[0m                                Traceback (most recent call last)",
      "Cell \u001b[0;32mIn[37], line 1\u001b[0m\n\u001b[0;32m----> 1\u001b[0m \u001b[43mclient\u001b[49m\u001b[38;5;241;43m.\u001b[39;49m\u001b[43mreset\u001b[49m\u001b[43m(\u001b[49m\u001b[43m)\u001b[49m  \u001b[38;5;66;03m# Empties and completely resets the database. ⚠️ This is destructive and not reversible.\u001b[39;00m\n",
      "File \u001b[0;32m~/miniconda3/envs/nvembed/lib/python3.9/site-packages/chromadb/api/client.py:340\u001b[0m, in \u001b[0;36mClient.reset\u001b[0;34m(self)\u001b[0m\n\u001b[1;32m    338\u001b[0m \u001b[38;5;129m@override\u001b[39m\n\u001b[1;32m    339\u001b[0m \u001b[38;5;28;01mdef\u001b[39;00m \u001b[38;5;21mreset\u001b[39m(\u001b[38;5;28mself\u001b[39m) \u001b[38;5;241m-\u001b[39m\u001b[38;5;241m>\u001b[39m \u001b[38;5;28mbool\u001b[39m:\n\u001b[0;32m--> 340\u001b[0m     \u001b[38;5;28;01mreturn\u001b[39;00m \u001b[38;5;28;43mself\u001b[39;49m\u001b[38;5;241;43m.\u001b[39;49m\u001b[43m_server\u001b[49m\u001b[38;5;241;43m.\u001b[39;49m\u001b[43mreset\u001b[49m\u001b[43m(\u001b[49m\u001b[43m)\u001b[49m\n",
      "File \u001b[0;32m~/miniconda3/envs/nvembed/lib/python3.9/site-packages/chromadb/api/segment.py:839\u001b[0m, in \u001b[0;36mSegmentAPI.reset\u001b[0;34m(self)\u001b[0m\n\u001b[1;32m    837\u001b[0m \u001b[38;5;129m@override\u001b[39m\n\u001b[1;32m    838\u001b[0m \u001b[38;5;28;01mdef\u001b[39;00m \u001b[38;5;21mreset\u001b[39m(\u001b[38;5;28mself\u001b[39m) \u001b[38;5;241m-\u001b[39m\u001b[38;5;241m>\u001b[39m \u001b[38;5;28mbool\u001b[39m:\n\u001b[0;32m--> 839\u001b[0m     \u001b[38;5;28;43mself\u001b[39;49m\u001b[38;5;241;43m.\u001b[39;49m\u001b[43m_system\u001b[49m\u001b[38;5;241;43m.\u001b[39;49m\u001b[43mreset_state\u001b[49m\u001b[43m(\u001b[49m\u001b[43m)\u001b[49m\n\u001b[1;32m    840\u001b[0m     \u001b[38;5;28;01mreturn\u001b[39;00m \u001b[38;5;28;01mTrue\u001b[39;00m\n",
      "File \u001b[0;32m~/miniconda3/envs/nvembed/lib/python3.9/site-packages/chromadb/config.py:437\u001b[0m, in \u001b[0;36mSystem.reset_state\u001b[0;34m(self)\u001b[0m\n\u001b[1;32m    435\u001b[0m \u001b[38;5;250m\u001b[39m\u001b[38;5;124;03m\"\"\"Reset the state of this system and all constituents in reverse dependency order\"\"\"\u001b[39;00m\n\u001b[1;32m    436\u001b[0m \u001b[38;5;28;01mif\u001b[39;00m \u001b[38;5;129;01mnot\u001b[39;00m \u001b[38;5;28mself\u001b[39m\u001b[38;5;241m.\u001b[39msettings\u001b[38;5;241m.\u001b[39mallow_reset:\n\u001b[0;32m--> 437\u001b[0m     \u001b[38;5;28;01mraise\u001b[39;00m \u001b[38;5;167;01mValueError\u001b[39;00m(\n\u001b[1;32m    438\u001b[0m         \u001b[38;5;124m\"\u001b[39m\u001b[38;5;124mResetting is not allowed by this configuration (to enable it, set `allow_reset` to `True` in your Settings() or include `ALLOW_RESET=TRUE` in your environment variables)\u001b[39m\u001b[38;5;124m\"\u001b[39m\n\u001b[1;32m    439\u001b[0m     )\n\u001b[1;32m    440\u001b[0m \u001b[38;5;28;01mfor\u001b[39;00m component \u001b[38;5;129;01min\u001b[39;00m \u001b[38;5;28mreversed\u001b[39m(\u001b[38;5;28mlist\u001b[39m(\u001b[38;5;28mself\u001b[39m\u001b[38;5;241m.\u001b[39mcomponents())):\n\u001b[1;32m    441\u001b[0m     component\u001b[38;5;241m.\u001b[39mreset_state()\n",
      "\u001b[0;31mValueError\u001b[0m: Resetting is not allowed by this configuration (to enable it, set `allow_reset` to `True` in your Settings() or include `ALLOW_RESET=TRUE` in your environment variables)"
     ]
    }
   ],
   "source": [
    "client.reset()  # Empties and completely resets the database. ⚠️ This is destructive and not reversible."
   ]
  },
  {
   "cell_type": "code",
   "execution_count": 35,
   "metadata": {},
   "outputs": [
    {
     "data": {
      "text/plain": [
       "1730224338311327325"
      ]
     },
     "execution_count": 35,
     "metadata": {},
     "output_type": "execute_result"
    }
   ],
   "source": [
    "client.heartbeat()  # returns a nanosecond heartbeat. Useful for making sure the client remains connected."
   ]
  },
  {
   "cell_type": "code",
   "execution_count": 38,
   "metadata": {},
   "outputs": [
    {
     "ename": "ValueError",
     "evalue": "\n                You must provide either ids, where, or where_document to delete. If\n                you want to delete all data in a collection you can delete the\n                collection itself using the delete_collection method. Or alternatively,\n                you can get() all the relevant ids and then delete them.\n                ",
     "output_type": "error",
     "traceback": [
      "\u001b[0;31m---------------------------------------------------------------------------\u001b[0m",
      "\u001b[0;31mValueError\u001b[0m                                Traceback (most recent call last)",
      "Cell \u001b[0;32mIn[38], line 1\u001b[0m\n\u001b[0;32m----> 1\u001b[0m \u001b[43mcollection\u001b[49m\u001b[38;5;241;43m.\u001b[39;49m\u001b[43mdelete\u001b[49m\u001b[43m(\u001b[49m\u001b[43m)\u001b[49m\n",
      "File \u001b[0;32m~/miniconda3/envs/nvembed/lib/python3.9/site-packages/chromadb/api/models/Collection.py:334\u001b[0m, in \u001b[0;36mCollection.delete\u001b[0;34m(self, ids, where, where_document)\u001b[0m\n\u001b[1;32m    317\u001b[0m \u001b[38;5;250m\u001b[39m\u001b[38;5;124;03m\"\"\"Delete the embeddings based on ids and/or a where filter\u001b[39;00m\n\u001b[1;32m    318\u001b[0m \n\u001b[1;32m    319\u001b[0m \u001b[38;5;124;03mArgs:\u001b[39;00m\n\u001b[0;32m   (...)\u001b[0m\n\u001b[1;32m    328\u001b[0m \u001b[38;5;124;03m    ValueError: If you don't provide either ids, where, or where_document\u001b[39;00m\n\u001b[1;32m    329\u001b[0m \u001b[38;5;124;03m\"\"\"\u001b[39;00m\n\u001b[1;32m    330\u001b[0m (ids, where, where_document) \u001b[38;5;241m=\u001b[39m \u001b[38;5;28mself\u001b[39m\u001b[38;5;241m.\u001b[39m_validate_and_prepare_delete_request(\n\u001b[1;32m    331\u001b[0m     ids, where, where_document\n\u001b[1;32m    332\u001b[0m )\n\u001b[0;32m--> 334\u001b[0m \u001b[38;5;28;43mself\u001b[39;49m\u001b[38;5;241;43m.\u001b[39;49m\u001b[43m_client\u001b[49m\u001b[38;5;241;43m.\u001b[39;49m\u001b[43m_delete\u001b[49m\u001b[43m(\u001b[49m\u001b[38;5;28;43mself\u001b[39;49m\u001b[38;5;241;43m.\u001b[39;49m\u001b[43mid\u001b[49m\u001b[43m,\u001b[49m\u001b[43m \u001b[49m\u001b[43mids\u001b[49m\u001b[43m,\u001b[49m\u001b[43m \u001b[49m\u001b[43mwhere\u001b[49m\u001b[43m,\u001b[49m\u001b[43m \u001b[49m\u001b[43mwhere_document\u001b[49m\u001b[43m)\u001b[49m\n",
      "File \u001b[0;32m~/miniconda3/envs/nvembed/lib/python3.9/site-packages/chromadb/telemetry/opentelemetry/__init__.py:146\u001b[0m, in \u001b[0;36mtrace_method.<locals>.decorator.<locals>.wrapper\u001b[0;34m(*args, **kwargs)\u001b[0m\n\u001b[1;32m    144\u001b[0m \u001b[38;5;28;01mglobal\u001b[39;00m tracer, granularity\n\u001b[1;32m    145\u001b[0m \u001b[38;5;28;01mif\u001b[39;00m trace_granularity \u001b[38;5;241m<\u001b[39m granularity:\n\u001b[0;32m--> 146\u001b[0m     \u001b[38;5;28;01mreturn\u001b[39;00m \u001b[43mf\u001b[49m\u001b[43m(\u001b[49m\u001b[38;5;241;43m*\u001b[39;49m\u001b[43margs\u001b[49m\u001b[43m,\u001b[49m\u001b[43m \u001b[49m\u001b[38;5;241;43m*\u001b[39;49m\u001b[38;5;241;43m*\u001b[39;49m\u001b[43mkwargs\u001b[49m\u001b[43m)\u001b[49m\n\u001b[1;32m    147\u001b[0m \u001b[38;5;28;01mif\u001b[39;00m \u001b[38;5;129;01mnot\u001b[39;00m tracer:\n\u001b[1;32m    148\u001b[0m     \u001b[38;5;28;01mreturn\u001b[39;00m f(\u001b[38;5;241m*\u001b[39margs, \u001b[38;5;241m*\u001b[39m\u001b[38;5;241m*\u001b[39mkwargs)\n",
      "File \u001b[0;32m~/miniconda3/envs/nvembed/lib/python3.9/site-packages/chromadb/api/segment.py:599\u001b[0m, in \u001b[0;36mSegmentAPI._delete\u001b[0;34m(self, collection_id, ids, where, where_document)\u001b[0m\n\u001b[1;32m    590\u001b[0m \u001b[38;5;66;03m# You must have at least one of non-empty ids, where, or where_document.\u001b[39;00m\n\u001b[1;32m    591\u001b[0m \u001b[38;5;28;01mif\u001b[39;00m (\n\u001b[1;32m    592\u001b[0m     (ids \u001b[38;5;129;01mis\u001b[39;00m \u001b[38;5;28;01mNone\u001b[39;00m \u001b[38;5;129;01mor\u001b[39;00m (ids \u001b[38;5;129;01mis\u001b[39;00m \u001b[38;5;129;01mnot\u001b[39;00m \u001b[38;5;28;01mNone\u001b[39;00m \u001b[38;5;129;01mand\u001b[39;00m \u001b[38;5;28mlen\u001b[39m(ids) \u001b[38;5;241m==\u001b[39m \u001b[38;5;241m0\u001b[39m))\n\u001b[1;32m    593\u001b[0m     \u001b[38;5;129;01mand\u001b[39;00m (where \u001b[38;5;129;01mis\u001b[39;00m \u001b[38;5;28;01mNone\u001b[39;00m \u001b[38;5;129;01mor\u001b[39;00m (where \u001b[38;5;129;01mis\u001b[39;00m \u001b[38;5;129;01mnot\u001b[39;00m \u001b[38;5;28;01mNone\u001b[39;00m \u001b[38;5;129;01mand\u001b[39;00m \u001b[38;5;28mlen\u001b[39m(where) \u001b[38;5;241m==\u001b[39m \u001b[38;5;241m0\u001b[39m))\n\u001b[0;32m   (...)\u001b[0m\n\u001b[1;32m    597\u001b[0m     )\n\u001b[1;32m    598\u001b[0m ):\n\u001b[0;32m--> 599\u001b[0m     \u001b[38;5;28;01mraise\u001b[39;00m \u001b[38;5;167;01mValueError\u001b[39;00m(\n\u001b[1;32m    600\u001b[0m \u001b[38;5;250m        \u001b[39m\u001b[38;5;124;03m\"\"\"\u001b[39;00m\n\u001b[1;32m    601\u001b[0m \u001b[38;5;124;03m        You must provide either ids, where, or where_document to delete. If\u001b[39;00m\n\u001b[1;32m    602\u001b[0m \u001b[38;5;124;03m        you want to delete all data in a collection you can delete the\u001b[39;00m\n\u001b[1;32m    603\u001b[0m \u001b[38;5;124;03m        collection itself using the delete_collection method. Or alternatively,\u001b[39;00m\n\u001b[1;32m    604\u001b[0m \u001b[38;5;124;03m        you can get() all the relevant ids and then delete them.\u001b[39;00m\n\u001b[1;32m    605\u001b[0m \u001b[38;5;124;03m        \"\"\"\u001b[39;00m\n\u001b[1;32m    606\u001b[0m     )\n\u001b[1;32m    608\u001b[0m coll \u001b[38;5;241m=\u001b[39m \u001b[38;5;28mself\u001b[39m\u001b[38;5;241m.\u001b[39m_get_collection(collection_id)\n\u001b[1;32m    609\u001b[0m request_version_context \u001b[38;5;241m=\u001b[39m t\u001b[38;5;241m.\u001b[39mRequestVersionContext(\n\u001b[1;32m    610\u001b[0m     collection_version\u001b[38;5;241m=\u001b[39mcoll\u001b[38;5;241m.\u001b[39mversion,\n\u001b[1;32m    611\u001b[0m     log_position\u001b[38;5;241m=\u001b[39mcoll\u001b[38;5;241m.\u001b[39mlog_position,\n\u001b[1;32m    612\u001b[0m )\n",
      "\u001b[0;31mValueError\u001b[0m: \n                You must provide either ids, where, or where_document to delete. If\n                you want to delete all data in a collection you can delete the\n                collection itself using the delete_collection method. Or alternatively,\n                you can get() all the relevant ids and then delete them.\n                "
     ]
    }
   ],
   "source": [
    "collection.delete()"
   ]
  },
  {
   "cell_type": "code",
   "execution_count": 39,
   "metadata": {},
   "outputs": [],
   "source": [
    "client.delete_collection(name=\"test\")"
   ]
  },
  {
   "cell_type": "code",
   "execution_count": null,
   "metadata": {},
   "outputs": [],
   "source": []
  }
 ],
 "metadata": {
  "kernelspec": {
   "display_name": "nvembed",
   "language": "python",
   "name": "python3"
  },
  "language_info": {
   "codemirror_mode": {
    "name": "ipython",
    "version": 3
   },
   "file_extension": ".py",
   "mimetype": "text/x-python",
   "name": "python",
   "nbconvert_exporter": "python",
   "pygments_lexer": "ipython3",
   "version": "3.9.19"
  }
 },
 "nbformat": 4,
 "nbformat_minor": 2
}
