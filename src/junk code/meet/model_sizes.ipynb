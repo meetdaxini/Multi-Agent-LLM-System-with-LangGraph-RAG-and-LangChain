{
 "cells": [
  {
   "cell_type": "code",
   "execution_count": 1,
   "metadata": {},
   "outputs": [],
   "source": [
    "import sys"
   ]
  },
  {
   "cell_type": "code",
   "execution_count": 2,
   "metadata": {},
   "outputs": [],
   "source": [
    "module_path = \"/home/ubuntu/Multi-Agent-LLM-System-with-LangGraph-RAG-and-LangChain/src\"\n",
    "if module_path not in sys.path:\n",
    "    sys.path.append(module_path)"
   ]
  },
  {
   "cell_type": "code",
   "execution_count": 3,
   "metadata": {},
   "outputs": [
    {
     "name": "stderr",
     "output_type": "stream",
     "text": [
      "/home/ubuntu/miniconda3/envs/nvembed/lib/python3.9/site-packages/tqdm/auto.py:21: TqdmWarning: IProgress not found. Please update jupyter and ipywidgets. See https://ipywidgets.readthedocs.io/en/stable/user_install.html\n",
      "  from .autonotebook import tqdm as notebook_tqdm\n"
     ]
    }
   ],
   "source": [
    "import torch\n",
    "import gc\n",
    "from my_rag.components.embeddings.huggingface_embedding import HuggingFaceEmbedding\n",
    "from my_rag.components.llms.huggingface_llm import HuggingFaceLLM"
   ]
  },
  {
   "cell_type": "code",
   "execution_count": 4,
   "metadata": {},
   "outputs": [
    {
     "name": "stdout",
     "output_type": "stream",
     "text": [
      "--------------------------------------------------------------------------------------------------------------------------------------------------------------------------------------------------------\n",
      "model_name='mixedbread-ai/mxbai-embed-large-v1'   GPU Memory Used=1.25 GB Total Parameters=335.14 Million\n",
      "--------------------------------------------------------------------------------------------------------------------------------------------------------------------------------------------------------\n"
     ]
    },
    {
     "name": "stderr",
     "output_type": "stream",
     "text": [
      "Special tokens have been added in the vocabulary, make sure the associated word embeddings are fine-tuned or trained.\n",
      "The `load_in_4bit` and `load_in_8bit` arguments are deprecated and will be removed in the future versions. Please, pass a `BitsAndBytesConfig` object in `quantization_config` argument instead.\n",
      "`low_cpu_mem_usage` was None, now set to True since model is quantized.\n"
     ]
    },
    {
     "name": "stdout",
     "output_type": "stream",
     "text": [
      "--------------------------------------------------------------------------------------------------------------------------------------------------------------------------------------------------------\n",
      "model_name='dunzhang/stella_en_1.5B_v5'  loaded in 8 bit GPU Memory Used=3.48 GB Total Parameters=1543.27 Million\n",
      "--------------------------------------------------------------------------------------------------------------------------------------------------------------------------------------------------------\n"
     ]
    },
    {
     "name": "stderr",
     "output_type": "stream",
     "text": [
      "Special tokens have been added in the vocabulary, make sure the associated word embeddings are fine-tuned or trained.\n"
     ]
    },
    {
     "name": "stdout",
     "output_type": "stream",
     "text": [
      "--------------------------------------------------------------------------------------------------------------------------------------------------------------------------------------------------------\n",
      "model_name='dunzhang/stella_en_1.5B_v5'   GPU Memory Used=9.25 GB Total Parameters=1543.27 Million\n",
      "--------------------------------------------------------------------------------------------------------------------------------------------------------------------------------------------------------\n"
     ]
    },
    {
     "name": "stderr",
     "output_type": "stream",
     "text": [
      "The `load_in_4bit` and `load_in_8bit` arguments are deprecated and will be removed in the future versions. Please, pass a `BitsAndBytesConfig` object in `quantization_config` argument instead.\n",
      "`low_cpu_mem_usage` was None, now set to True since model is quantized.\n",
      "Loading checkpoint shards: 100%|██████████| 4/4 [01:05<00:00, 16.46s/it]\n"
     ]
    },
    {
     "name": "stdout",
     "output_type": "stream",
     "text": [
      "--------------------------------------------------------------------------------------------------------------------------------------------------------------------------------------------------------\n",
      "model_name='nvidia/NV-Embed-v2'  loaded in 8 bit GPU Memory Used=7.44 GB Total Parameters=7851.02 Million\n",
      "--------------------------------------------------------------------------------------------------------------------------------------------------------------------------------------------------------\n",
      "--------------------------------------------------------------------------------------------------------------------------------------------------------------------------------------------------------\n",
      "model_name='sentence-transformers/all-MiniLM-L6-v2'   GPU Memory Used=0.08 GB Total Parameters=22.71 Million\n",
      "--------------------------------------------------------------------------------------------------------------------------------------------------------------------------------------------------------\n"
     ]
    }
   ],
   "source": [
    "for model_config in [\n",
    "    {\n",
    "        \"name\": \"mixedbread-ai/mxbai-embed-large-v1\",\n",
    "    },\n",
    "    {\n",
    "        \"name\": \"dunzhang/stella_en_1.5B_v5\",\n",
    "        \"kwargs\": {\"trust_remote_code\": True, \"load_in_8bit\": True},\n",
    "    },\n",
    "    {\n",
    "        \"name\": \"dunzhang/stella_en_1.5B_v5\",\n",
    "        \"kwargs\": {\n",
    "            \"trust_remote_code\": True,\n",
    "        },\n",
    "    },\n",
    "    {\n",
    "        \"name\": \"nvidia/NV-Embed-v2\",\n",
    "        \"kwargs\": {\n",
    "            \"trust_remote_code\": True,\n",
    "            \"load_in_8bit\": True,\n",
    "            \"max_length\": 32768,\n",
    "        },\n",
    "    },\n",
    "    {\n",
    "        \"name\": \"sentence-transformers/all-MiniLM-L6-v2\",\n",
    "    },\n",
    "]:\n",
    "    torch.cuda.empty_cache()\n",
    "    gc.collect()\n",
    "    initial_gpu_memory = torch.cuda.memory_allocated() / 1024**3\n",
    "    model_name = model_config[\"name\"]\n",
    "    model_kwargs = model_config.get(\"kwargs\", {})\n",
    "    embedding_model = HuggingFaceEmbedding(\n",
    "            model_name=model_name,\n",
    "            **model_kwargs\n",
    "        )\n",
    "    total_params = sum(p.numel() for p in embedding_model.model.parameters())\n",
    "    total_params_millions = total_params/ 1e6 \n",
    "    final_gpu_memory = torch.cuda.memory_allocated() / 1024**3\n",
    "    gpu_memory_used = final_gpu_memory - initial_gpu_memory\n",
    "    embedding_model.clean_up()\n",
    "    torch.cuda.empty_cache()\n",
    "    gc.collect()\n",
    "    print(\"-\"*200)\n",
    "    print(\n",
    "        f\"{model_name=}  {'loaded in 8 bit' if model_kwargs.get('load_in_8bit') else ''} GPU Memory Used={gpu_memory_used:.2f} GB Total Parameters={total_params_millions:.2f} Million\"\n",
    "    )\n",
    "    print(\"-\" * 200)"
   ]
  },
  {
   "cell_type": "code",
   "execution_count": 5,
   "metadata": {},
   "outputs": [
    {
     "name": "stderr",
     "output_type": "stream",
     "text": [
      "Special tokens have been added in the vocabulary, make sure the associated word embeddings are fine-tuned or trained.\n",
      "The `load_in_4bit` and `load_in_8bit` arguments are deprecated and will be removed in the future versions. Please, pass a `BitsAndBytesConfig` object in `quantization_config` argument instead.\n",
      "`low_cpu_mem_usage` was None, now set to True since model is quantized.\n",
      "Loading checkpoint shards: 100%|██████████| 4/4 [01:00<00:00, 15.09s/it]\n"
     ]
    },
    {
     "name": "stdout",
     "output_type": "stream",
     "text": [
      "--------------------------------------------------------------------------------------------------------------------------------------------------------------------------------------------------------\n",
      "model_name='meta-llama/Meta-Llama-3-8B-Instruct'  loaded in 8 bit GPU Memory Used=10.42 GB Total Parameters=8030.26 Million\n",
      "--------------------------------------------------------------------------------------------------------------------------------------------------------------------------------------------------------\n"
     ]
    }
   ],
   "source": [
    "for model_config in [\n",
    "    {\n",
    "        \"name\": \"meta-llama/Meta-Llama-3-8B-Instruct\",\n",
    "        \"kwargs\": {\n",
    "            \"trust_remote_code\": True,\n",
    "            \"load_in_8bit\": True,\n",
    "        },\n",
    "    },\n",
    "]:\n",
    "    torch.cuda.empty_cache()\n",
    "    gc.collect()\n",
    "    initial_gpu_memory = torch.cuda.memory_allocated() / 1024**3\n",
    "    model_name = model_config[\"name\"]\n",
    "    model_kwargs = model_config.get(\"kwargs\", {})\n",
    "    llm_model = HuggingFaceLLM(model_name=model_name, **model_kwargs)\n",
    "    total_params = sum(p.numel() for p in llm_model.model.parameters())\n",
    "    total_params_millions = total_params / 1e6\n",
    "    final_gpu_memory = torch.cuda.memory_allocated() / 1024**3\n",
    "    gpu_memory_used = final_gpu_memory - initial_gpu_memory\n",
    "    llm_model.clean_up()\n",
    "    torch.cuda.empty_cache()\n",
    "    gc.collect()\n",
    "    print(\"-\" * 200)\n",
    "    print(\n",
    "        f\"{model_name=}  {'loaded in 8 bit' if model_kwargs.get('load_in_8bit') else ''} \"\n",
    "        f\"GPU Memory Used={gpu_memory_used:.2f} GB Total Parameters={total_params_millions:.2f} Million\"\n",
    "    )\n",
    "    print(\"-\" * 200)"
   ]
  }
 ],
 "metadata": {
  "kernelspec": {
   "display_name": "nvembed",
   "language": "python",
   "name": "python3"
  },
  "language_info": {
   "codemirror_mode": {
    "name": "ipython",
    "version": 3
   },
   "file_extension": ".py",
   "mimetype": "text/x-python",
   "name": "python",
   "nbconvert_exporter": "python",
   "pygments_lexer": "ipython3",
   "version": "3.9.19"
  }
 },
 "nbformat": 4,
 "nbformat_minor": 2
}
